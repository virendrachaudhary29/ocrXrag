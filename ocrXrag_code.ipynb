{
 "cells": [
  {
   "cell_type": "markdown",
   "id": "c1bb62e2",
   "metadata": {},
   "source": [
    "# PDF and Images Content Extraction for Large Language Models"
   ]
  },
  {
   "cell_type": "code",
   "execution_count": null,
   "id": "47ed70d2",
   "metadata": {},
   "outputs": [],
   "source": [
    "!pip install -U pypdfium2"
   ]
  },
  {
   "cell_type": "code",
   "execution_count": null,
   "id": "14a363e8",
   "metadata": {},
   "outputs": [],
   "source": [
    "import pypdfium2 as pdfium\n",
    "import matplotlib.pyplot as plt\n",
    "from PIL import Image\n",
    "from io import BytesIO"
   ]
  },
  {
   "cell_type": "code",
   "execution_count": null,
   "id": "4534b9ac",
   "metadata": {},
   "outputs": [],
   "source": [
    "def convert_pdf_to_images(file_path, scale=300/72):\n",
    "    \n",
    "    pdf_file = pdfium.PdfDocument(file_path)  \n",
    "    page_indices = [i for i in range(len(pdf_file))]\n",
    "    \n",
    "    renderer = pdf_file.render(\n",
    "        pdfium.PdfBitmap.to_pil,\n",
    "        page_indices = page_indices, \n",
    "        scale = scale,\n",
    "    )\n",
    "    \n",
    "    list_final_images = [] \n",
    "    \n",
    "    for i, image in zip(page_indices, renderer):\n",
    "        \n",
    "        image_byte_array = BytesIO()\n",
    "        image.save(image_byte_array, format='jpeg', optimize=True)\n",
    "        image_byte_array = image_byte_array.getvalue()\n",
    "        list_final_images.append(dict({i:image_byte_array}))\n",
    "    \n",
    "    return list_final_images"
   ]
  },
  {
   "cell_type": "code",
   "execution_count": null,
   "id": "42629d4a",
   "metadata": {},
   "outputs": [],
   "source": [
    "def display_images(list_dict_final_images):\n",
    "    \n",
    "    all_images = [list(data.values())[0] for data in list_dict_final_images]\n",
    "\n",
    "    for index, image_bytes in enumerate(all_images):\n",
    "\n",
    "        image = Image.open(BytesIO(image_bytes))\n",
    "        figure = plt.figure(figsize = (image.width / 100, image.height / 100))\n",
    "\n",
    "        plt.title(f\"----- Page Number {index+1} -----\")\n",
    "        plt.imshow(image)\n",
    "        plt.axis(\"off\")\n",
    "        plt.show()"
   ]
  },
  {
   "cell_type": "code",
   "execution_count": null,
   "id": "9df8d26d",
   "metadata": {},
   "outputs": [],
   "source": [
    "convert_pdf_to_images = convert_pdf_to_images('downloads/virendra_cv.pdf')"
   ]
  },
  {
   "cell_type": "code",
   "execution_count": null,
   "id": "16ec7fa8",
   "metadata": {},
   "outputs": [],
   "source": [
    "#convert_pdf_to_images"
   ]
  },
  {
   "cell_type": "code",
   "execution_count": null,
   "id": "6a98af89",
   "metadata": {},
   "outputs": [],
   "source": [
    "display_images(convert_pdf_to_images)"
   ]
  },
  {
   "cell_type": "markdown",
   "id": "10fa7a36",
   "metadata": {},
   "source": [
    "## EasyOCR"
   ]
  },
  {
   "cell_type": "code",
   "execution_count": null,
   "id": "e31b4713",
   "metadata": {},
   "outputs": [],
   "source": [
    "#!pip install easyocr\n",
    "\n",
    "from easyocr import Reader\n",
    "\n",
    "# Load model for the English language\n",
    "language_reader = Reader([\"en\"])"
   ]
  },
  {
   "cell_type": "code",
   "execution_count": null,
   "id": "bf2fbceb",
   "metadata": {},
   "outputs": [],
   "source": [
    "def extract_text_with_easyocr(list_dict_final_images):\n",
    "    \n",
    "    image_list = [list(data.values())[0] for data in list_dict_final_images]\n",
    "    image_content = []\n",
    "    \n",
    "    for index, image_bytes in enumerate(image_list):\n",
    "        \n",
    "        image = Image.open(BytesIO(image_bytes))\n",
    "        raw_text = language_reader.readtext(image)\n",
    "        raw_text = \"\\n\".join([res[1] for res in raw_text])\n",
    "                       \n",
    "        image_content.append(raw_text)\n",
    "    \n",
    "    return \"\\n\".join(image_content)"
   ]
  },
  {
   "cell_type": "code",
   "execution_count": null,
   "id": "4984200a",
   "metadata": {},
   "outputs": [],
   "source": [
    "text_with_easy_ocr = extract_text_with_easyocr(convert_pdf_to_images)\n",
    "print(text_with_easy_ocr)"
   ]
  },
  {
   "cell_type": "markdown",
   "id": "958111f5",
   "metadata": {},
   "source": [
    "## LangChain"
   ]
  },
  {
   "cell_type": "code",
   "execution_count": null,
   "id": "0b5bc58d",
   "metadata": {},
   "outputs": [],
   "source": [
    "!pip install langchain"
   ]
  },
  {
   "cell_type": "code",
   "execution_count": null,
   "id": "4951e019",
   "metadata": {},
   "outputs": [],
   "source": [
    "from langchain.document_loaders.image import UnstructuredImageLoader\n",
    "\n",
    "def extract_text_with_langchain_image(list_dict_final_images):\n",
    "    \n",
    "    image_list = [list(data.values())[0] for data in list_dict_final_images]\n",
    "    image_content = []\n",
    "    \n",
    "    for index, image_bytes in enumerate(image_list):\n",
    "        \n",
    "        image = Image.open(BytesIO(image_bytes))\n",
    "        loader = UnstructuredImageLoader(image)\n",
    "        data = loader.load()\n",
    "        raw_text = data[index].page_content\n",
    "                       \n",
    "        image_content.append(raw_text)\n",
    "    \n",
    "    return \"\\n\".join(image_content)"
   ]
  },
  {
   "cell_type": "code",
   "execution_count": null,
   "id": "a3a65473",
   "metadata": {},
   "outputs": [],
   "source": [
    "!pip install pdfminer.six"
   ]
  },
  {
   "cell_type": "code",
   "execution_count": null,
   "id": "73b6bf9d",
   "metadata": {},
   "outputs": [],
   "source": [
    "!pip uninstall pdfminer.six"
   ]
  },
  {
   "cell_type": "code",
   "execution_count": null,
   "id": "27d844fb",
   "metadata": {},
   "outputs": [],
   "source": [
    "text_with_langchain_image = extract_text_with_langchain_image(convert_pdf_to_images)\n",
    "print(text_with_langchain_image)"
   ]
  },
  {
   "cell_type": "code",
   "execution_count": null,
   "id": "b34caf6c",
   "metadata": {},
   "outputs": [],
   "source": [
    "from langchain.document_loaders import UnstructuredFileLoader\n",
    "\n",
    "def extract_text_with_langchain_pdf(pdf_file):\n",
    "    \n",
    "    loader = UnstructuredFileLoader(pdf_file)\n",
    "    documents = loader.load()\n",
    "    pdf_pages_content = '\\n'.join(doc.page_content for doc in documents)\n",
    "    \n",
    "    return pdf_pages_content"
   ]
  },
  {
   "cell_type": "code",
   "execution_count": null,
   "id": "2610e402",
   "metadata": {},
   "outputs": [],
   "source": [
    "text_with_langchain_files = extract_text_with_langchain_pdf(\"downloads\\specialization_certificate.pdf\")\n",
    "print(text_with_langchain_files)"
   ]
  },
  {
   "cell_type": "code",
   "execution_count": null,
   "id": "2426cd5f",
   "metadata": {},
   "outputs": [],
   "source": [
    "!pip install python-magic-bin"
   ]
  },
  {
   "cell_type": "code",
   "execution_count": null,
   "id": "f895673c",
   "metadata": {},
   "outputs": [],
   "source": [
    "import magic\n",
    "import pandas as pd"
   ]
  },
  {
   "cell_type": "code",
   "execution_count": null,
   "id": "f3868a4d",
   "metadata": {},
   "outputs": [],
   "source": [
    "file_path = \"downloads\\specialization_certificate.pdf\"  # Replace with the actual path to your file"
   ]
  },
  {
   "cell_type": "code",
   "execution_count": null,
   "id": "f60e96a6",
   "metadata": {},
   "outputs": [],
   "source": [
    "mime = magic.Magic(mime=True)\n",
    "file_type = mime.from_file(file_path)\n",
    "print(file_type) "
   ]
  },
  {
   "cell_type": "code",
   "execution_count": null,
   "id": "4c4dc096",
   "metadata": {},
   "outputs": [],
   "source": [
    "!pip install \"unstructured[pdf-fast]\""
   ]
  },
  {
   "cell_type": "code",
   "execution_count": null,
   "id": "8bf6c4ee",
   "metadata": {},
   "outputs": [],
   "source": [
    "!pip install \"unstructured[pdf]\""
   ]
  },
  {
   "cell_type": "code",
   "execution_count": null,
   "id": "d5ffbd52",
   "metadata": {},
   "outputs": [],
   "source": [
    "!pip uninstall pdfminer.six unstructured -y"
   ]
  },
  {
   "cell_type": "code",
   "execution_count": null,
   "id": "5e29fdbc",
   "metadata": {},
   "outputs": [],
   "source": [
    "!pip install \"pdfminer.six<20221105\""
   ]
  },
  {
   "cell_type": "code",
   "execution_count": null,
   "id": "99111243",
   "metadata": {},
   "outputs": [],
   "source": [
    "!pip install \"unstructured[pdf]\""
   ]
  },
  {
   "cell_type": "code",
   "execution_count": null,
   "id": "f1d80528",
   "metadata": {},
   "outputs": [],
   "source": [
    "!pip uninstall pdfminer.six unstructured pdf2image pypdf2 -y --user\n",
    "!pip install \"pdfminer.six<20221105\" --user\n",
    "!pip install \"unstructured[pdf]\" \"unstructured[local-inference]\" --user\n",
    "!pip install pdf2image pypdf2 --user"
   ]
  },
  {
   "cell_type": "code",
   "execution_count": null,
   "id": "58aa51fb",
   "metadata": {},
   "outputs": [],
   "source": [
    "!pip uninstall pdfminer.six unstructured pdf2image pypdf2 -y"
   ]
  },
  {
   "cell_type": "code",
   "execution_count": null,
   "id": "d6132c6f",
   "metadata": {},
   "outputs": [],
   "source": [
    "!pip install \"pdfminer.six<20221105\" --user"
   ]
  },
  {
   "cell_type": "code",
   "execution_count": null,
   "id": "f34a26f9",
   "metadata": {},
   "outputs": [],
   "source": [
    "!pip install \"unstructured[pdf]\" \"unstructured[local-inference]\" --user"
   ]
  },
  {
   "cell_type": "code",
   "execution_count": null,
   "id": "0979526b",
   "metadata": {},
   "outputs": [],
   "source": [
    "!pip install pdf2image pypdf2 --user"
   ]
  },
  {
   "cell_type": "code",
   "execution_count": null,
   "id": "5d05d3d4",
   "metadata": {},
   "outputs": [],
   "source": [
    "!pip install onnx==1.12.0"
   ]
  },
  {
   "cell_type": "code",
   "execution_count": null,
   "id": "17ba2965",
   "metadata": {},
   "outputs": [],
   "source": [
    "!pip install \"unstructured[pdf]\" --user"
   ]
  },
  {
   "cell_type": "code",
   "execution_count": null,
   "id": "06062361",
   "metadata": {},
   "outputs": [],
   "source": [
    "from unstructured.partition.pdf import partition_pdf\n",
    "\n",
    "# Replace with your PDF file path\n",
    "elements = partition_pdf(\"downloads\\specialization_certificate.pdf\")\n",
    "for element in elements:\n",
    "    print(element.text)"
   ]
  },
  {
   "cell_type": "code",
   "execution_count": null,
   "id": "8bec9d72",
   "metadata": {},
   "outputs": [],
   "source": [
    "!pip install PyPDF2"
   ]
  },
  {
   "cell_type": "code",
   "execution_count": null,
   "id": "221ada40",
   "metadata": {},
   "outputs": [],
   "source": [
    "from PyPDF2 import PdfReader\n",
    "file_path = \"downloads\\specialization_certificate.pdf\"\n",
    "def read_pdf(file_path):\n",
    "    reader = PdfReader(file_path)\n",
    "    text = \"\"\n",
    "    for page in reader.pages:\n",
    "        text += page.extract_text() + \"\\n\"\n",
    "    return text\n",
    "\n",
    "# Use it like this:\n",
    "text = read_pdf(\"downloads\\specialization_certificate.pdf\")\n",
    "print(text)"
   ]
  },
  {
   "cell_type": "code",
   "execution_count": null,
   "id": "fefde7b0",
   "metadata": {},
   "outputs": [],
   "source": []
  }
 ],
 "metadata": {
  "kernelspec": {
   "display_name": "Python 3 (ipykernel)",
   "language": "python",
   "name": "python3"
  },
  "language_info": {
   "codemirror_mode": {
    "name": "ipython",
    "version": 3
   },
   "file_extension": ".py",
   "mimetype": "text/x-python",
   "name": "python",
   "nbconvert_exporter": "python",
   "pygments_lexer": "ipython3",
   "version": "3.11.5"
  },
  "toc": {
   "base_numbering": 1,
   "nav_menu": {},
   "number_sections": true,
   "sideBar": true,
   "skip_h1_title": false,
   "title_cell": "Table of Contents",
   "title_sidebar": "Contents",
   "toc_cell": false,
   "toc_position": {},
   "toc_section_display": true,
   "toc_window_display": false
  }
 },
 "nbformat": 4,
 "nbformat_minor": 5
}
